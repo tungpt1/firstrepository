{
    "cells": [
        {
            "metadata": {},
            "cell_type": "code",
            "source": "import tensorflow as tf\nA = tf.constant([[1, 2, 3],\n\t\t\t\t[4,5,6]])\nx = tf.constant([1,0,1])\nx = tf.expand_dims(x,1)\nb = tf.matmul(A,x)\nsess = tf.InteractiveSession()\nprint(x.get_shape())\nprint(\"The content of 'b':\\n {}\\n\".format(b.eval()))\nsess.close()\n",
            "execution_count": 1,
            "outputs": [
                {
                    "output_type": "stream",
                    "text": "(3, 1)\nThe content of 'b':\n [[ 4]\n [10]]\n\n",
                    "name": "stdout"
                }
            ]
        },
        {
            "metadata": {},
            "cell_type": "code",
            "source": "",
            "execution_count": null,
            "outputs": []
        }
    ],
    "metadata": {
        "kernelspec": {
            "name": "python3",
            "display_name": "Python 3.6",
            "language": "python"
        },
        "language_info": {
            "name": "python",
            "version": "3.6.9",
            "mimetype": "text/x-python",
            "codemirror_mode": {
                "name": "ipython",
                "version": 3
            },
            "pygments_lexer": "ipython3",
            "nbconvert_exporter": "python",
            "file_extension": ".py"
        }
    },
    "nbformat": 4,
    "nbformat_minor": 1
}