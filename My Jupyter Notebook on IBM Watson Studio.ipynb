{
    "cells": [
        {
            "metadata": {
                "collapsed": true
            },
            "cell_type": "markdown",
            "source": "# My Jupyter Notebook on IBM Watson Studio"
        },
        {
            "metadata": {},
            "cell_type": "markdown",
            "source": "**Pham Thanh Tung**\n\n.net developer"
        },
        {
            "metadata": {},
            "cell_type": "markdown",
            "source": "*I am interested in data science because I want to help Vietnamesse people have a good health conditional*"
        },
        {
            "metadata": {},
            "cell_type": "markdown",
            "source": "### The following code is write length of array"
        },
        {
            "metadata": {},
            "cell_type": "code",
            "source": "fruits = [\"Orange\", \"Watermelon\", \"Cherry\"]\nx = len(fruits)\nprint('array length: ' ,  x)\n",
            "execution_count": 12,
            "outputs": [
                {
                    "output_type": "stream",
                    "text": "array length:  3\n",
                    "name": "stdout"
                }
            ]
        },
        {
            "metadata": {},
            "cell_type": "markdown",
            "source": "[This is my Jupyter Notebook file link](https://dataplatform.cloud.ibm.com/analytics/notebooks/v2/a0ce581e-ef9d-4a5c-bdad-472f4e2376de/view?access_token=bc5591809e1cdd75dee940d675a24b0fb15c06a056fe0467ca372ebf10072a73)\n\n---\nYou can use this link to IBM Watson Studio  \nhttp://cloud.ibm.com\n---\n#### This is list\n1. Item 1\n2. Item 2\n3. Item 3\n\n***\n#### This is table\n| Name        | Age     | Salary |\n| ----------- |:-------:|:------:|\n| Tony        | 20      |  16000 |\n| Jame        | 30      |  12000 |\n| Todd        | 25      |  12500 |\n\n***\n#### This is Inline HTML\n\n\n<dl>\n  <dt>Definition list</dt>\n  <dd>Is something people use sometimes.</dd>\n\n  <dt>Markdown in HTML</dt>\n  <dd>Does *not* work **very** well. Use HTML <em>tags</em>.</dd>\n</dl>"
        }
    ],
    "metadata": {
        "kernelspec": {
            "name": "python3",
            "display_name": "Python 3.6",
            "language": "python"
        },
        "language_info": {
            "name": "python",
            "version": "3.6.9",
            "mimetype": "text/x-python",
            "codemirror_mode": {
                "name": "ipython",
                "version": 3
            },
            "pygments_lexer": "ipython3",
            "nbconvert_exporter": "python",
            "file_extension": ".py"
        }
    },
    "nbformat": 4,
    "nbformat_minor": 1
}